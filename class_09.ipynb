{
  "nbformat": 4,
  "nbformat_minor": 0,
  "metadata": {
    "colab": {
      "provenance": [],
      "authorship_tag": "ABX9TyPqXnkB8RIskWf3Et9oIyYZ",
      "include_colab_link": true
    },
    "kernelspec": {
      "name": "python3",
      "display_name": "Python 3"
    },
    "language_info": {
      "name": "python"
    }
  },
  "cells": [
    {
      "cell_type": "markdown",
      "metadata": {
        "id": "view-in-github",
        "colab_type": "text"
      },
      "source": [
        "<a href=\"https://colab.research.google.com/github/safia-umair/test-proj/blob/main/class_09.ipynb\" target=\"_parent\"><img src=\"https://colab.research.google.com/assets/colab-badge.svg\" alt=\"Open In Colab\"/></a>"
      ]
    },
    {
      "cell_type": "markdown",
      "source": [
        "recursion"
      ],
      "metadata": {
        "id": "jh5kHlhdG_gZ"
      }
    },
    {
      "cell_type": "code",
      "execution_count": 1,
      "metadata": {
        "colab": {
          "base_uri": "https://localhost:8080/"
        },
        "id": "CcBArQuIGuQr",
        "outputId": "aea77dcf-5305-4085-cc51-1f170466d248"
      },
      "outputs": [
        {
          "output_type": "stream",
          "name": "stdout",
          "text": [
            "120\n"
          ]
        }
      ],
      "source": [
        "def factorial(n):\n",
        "    # Base case\n",
        "    if n < 0:\n",
        "        return None\n",
        "    if n < 2:\n",
        "        return 1\n",
        "    # Recursive case\n",
        "    return n * factorial(n - 1)\n",
        "\n",
        "print(factorial(5))  # Output: 120"
      ]
    },
    {
      "cell_type": "markdown",
      "source": [
        "**lamda**"
      ],
      "metadata": {
        "id": "8z7GrGMWKao2"
      }
    },
    {
      "cell_type": "markdown",
      "source": [
        "can not be used again and again 1 time work .a single line funtion\n"
      ],
      "metadata": {
        "id": "x1MoIgQMMsaY"
      }
    },
    {
      "cell_type": "code",
      "source": [
        "# A lambda function that adds 10 to a number\n",
        "add_ten = lambda x: x + 10\n",
        "\n",
        "# Call the lambda function\n",
        "print(add_ten(5))  # Output: 15"
      ],
      "metadata": {
        "colab": {
          "base_uri": "https://localhost:8080/"
        },
        "id": "JQ0TRRisKecb",
        "outputId": "1570cd03-24b2-4ba7-af56-0882b54fc722"
      },
      "execution_count": 2,
      "outputs": [
        {
          "output_type": "stream",
          "name": "stdout",
          "text": [
            "15\n"
          ]
        }
      ]
    },
    {
      "cell_type": "code",
      "source": [
        "addition = lambda a,b : a+b\n",
        "print (addition(5,6))"
      ],
      "metadata": {
        "colab": {
          "base_uri": "https://localhost:8080/"
        },
        "id": "sRYgxtQeKkpx",
        "outputId": "1bbeea21-a31d-46f3-9f52-50ef635193bc"
      },
      "execution_count": 7,
      "outputs": [
        {
          "output_type": "stream",
          "name": "stdout",
          "text": [
            "11\n"
          ]
        }
      ]
    },
    {
      "cell_type": "markdown",
      "source": [
        "**classes**\n",
        "oop"
      ],
      "metadata": {
        "id": "QB9BDtk8XPNW"
      }
    },
    {
      "cell_type": "code",
      "source": [
        "class Human:\n",
        "    def __init__(self, name, age):\n",
        "        self.name = name\n",
        "        self.age = age\n",
        "\n",
        "    def speak(self):\n",
        "        print(f\"{self.name} is speaking.\")\n",
        "\n",
        "# Create an instance (object) of the class\n",
        "person = Human(\"Alice\", 25)\n",
        "\n",
        "# Call the speak method\n",
        "person.speak()  # Output: Alice is speaking.\n"
      ],
      "metadata": {
        "colab": {
          "base_uri": "https://localhost:8080/"
        },
        "id": "5di1doPdXUS6",
        "outputId": "259cd728-7b10-402e-9b92-3aa0a6bfffd2"
      },
      "execution_count": 8,
      "outputs": [
        {
          "output_type": "stream",
          "name": "stdout",
          "text": [
            "Alice is speaking.\n"
          ]
        }
      ]
    },
    {
      "cell_type": "code",
      "source": [
        "class human1:\n",
        "  def __init__(self, name):\n",
        "    self.name= name\n",
        "  def speak(self):\n",
        "    print(self.name)\n",
        "\n",
        "person = human1(\"safia\")\n",
        "person.speak()"
      ],
      "metadata": {
        "colab": {
          "base_uri": "https://localhost:8080/"
        },
        "id": "mgqmL830fZZU",
        "outputId": "f58e0a70-2ec4-43f9-a18d-8b4bf4df350e"
      },
      "execution_count": 16,
      "outputs": [
        {
          "output_type": "stream",
          "name": "stdout",
          "text": [
            "safia\n"
          ]
        }
      ]
    }
  ]
}